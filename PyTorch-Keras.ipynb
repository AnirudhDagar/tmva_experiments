{
 "cells": [
  {
   "cell_type": "code",
   "execution_count": 1,
   "metadata": {},
   "outputs": [
    {
     "name": "stdout",
     "output_type": "stream",
     "text": [
      "3.7.7\n"
     ]
    },
    {
     "name": "stderr",
     "output_type": "stream",
     "text": [
      "Using TensorFlow backend.\n"
     ]
    }
   ],
   "source": [
    "from __future__ import print_function\n",
    "from platform import python_version\n",
    "print(python_version())\n",
    "\n",
    "import os\n",
    "from os.path import isfile\n",
    "\n",
    "import numpy as np\n",
    "import pickle\n",
    "import matplotlib.pyplot as plt\n",
    "import time\n",
    "\n",
    "import torch\n",
    "import torch.nn as nn\n",
    "import torch.nn.functional as F\n",
    "import torch.optim as optim\n",
    "from torch.utils.data import DataLoader, Dataset, TensorDataset\n",
    "torch.manual_seed(111)\n",
    "\n",
    "from sklearn.model_selection import train_test_split\n",
    "from sklearn import metrics\n",
    "\n",
    "import tensorflow as tf\n",
    "import keras\n",
    "import keras.backend.tensorflow_backend as tfback\n",
    "from keras.models import Sequential\n",
    "from keras.layers import Dense, Dropout, Activation, Flatten, Conv2D, MaxPooling2D, Reshape\n",
    "\n",
    "def _get_available_gpus():\n",
    "    \"\"\"Get a list of available gpu devices (formatted as strings).\n",
    "\n",
    "    # Returns\n",
    "        A list of available GPU devices.\n",
    "    \"\"\"\n",
    "    #global _LOCAL_DEVICES\n",
    "    if tfback._LOCAL_DEVICES is None:\n",
    "        devices = tf.config.list_logical_devices()\n",
    "        tfback._LOCAL_DEVICES = [x.name for x in devices]\n",
    "    return [x for x in tfback._LOCAL_DEVICES if 'device:gpu' in x.lower()]\n",
    "\n",
    "tfback._get_available_gpus = _get_available_gpus"
   ]
  },
  {
   "cell_type": "code",
   "execution_count": 2,
   "metadata": {},
   "outputs": [],
   "source": [
    "with open('/Users/gollum/Downloads/root_test_data.pkl', 'rb') as rootdata:\n",
    "    sig1 = pickle.load(rootdata) \n",
    "    sig2 = pickle.load(rootdata) \n",
    "    bkg1 = pickle.load(rootdata) \n",
    "    bkg2 = pickle.load(rootdata)"
   ]
  },
  {
   "cell_type": "code",
   "execution_count": 3,
   "metadata": {},
   "outputs": [
    {
     "name": "stdout",
     "output_type": "stream",
     "text": [
      "8085\n",
      "10000\n",
      "8085\n",
      "10000\n",
      "Subset Tree: 8085\n"
     ]
    }
   ],
   "source": [
    "all_data_sig1 = [np.array(sig1[i][0]).reshape(32,32) for i in range(sig1.shape[0])]\n",
    "all_data_sig2 = [np.array(sig2[i][0]).reshape(32,32) for i in range(sig2.shape[0])]\n",
    "# all_data_sig = [np.array(sig[i][0]).reshape(32,32) for i in range(sig.shape[0])]\n",
    "\n",
    "\n",
    "print(len(all_data_sig1))\n",
    "print(len(all_data_sig2))\n",
    "\n",
    "all_data_bkg1 = [np.array(bkg1[i][0]).reshape(32,32) for i in range(bkg1.shape[0])]\n",
    "all_data_bkg2 = [np.array(bkg2[i][0]).reshape(32,32) for i in range(bkg2.shape[0])]\n",
    "# all_data_bkg = [np.array(bkg[i][0]).reshape(32,32) for i in range(bkg.shape[0])]\n",
    "\n",
    "print(len(all_data_bkg1))\n",
    "print(len(all_data_bkg2))\n",
    "\n",
    "#### Validating the signal1 & background1 are just a subset of signal2 and background2 ####\n",
    "counter = 0\n",
    "for i in range(8085):\n",
    "    if np.allclose(all_data_sig1[i], all_data_sig2[i]):\n",
    "        counter += 1\n",
    "\n",
    "print(\"Subset Tree:\", counter)"
   ]
  },
  {
   "cell_type": "code",
   "execution_count": 4,
   "metadata": {},
   "outputs": [
    {
     "name": "stdout",
     "output_type": "stream",
     "text": [
      "Example Image Signal Class\n"
     ]
    },
    {
     "data": {
      "text/plain": [
       "<matplotlib.image.AxesImage at 0x149997f50>"
      ]
     },
     "execution_count": 4,
     "metadata": {},
     "output_type": "execute_result"
    },
    {
     "data": {
      "image/png": "[encoded data removed]",
      "text/plain": [
       "<Figure size 432x288 with 1 Axes>"
      ]
     },
     "metadata": {
      "needs_background": "light"
     },
     "output_type": "display_data"
    }
   ],
   "source": [
    "print(\"Example Image Signal Class\")\n",
    "plt.imshow(all_data_sig2[0])"
   ]
  },
  {
   "cell_type": "code",
   "execution_count": 5,
   "metadata": {},
   "outputs": [
    {
     "name": "stdout",
     "output_type": "stream",
     "text": [
      "Example Image Background Class\n"
     ]
    },
    {
     "data": {
      "text/plain": [
       "<matplotlib.image.AxesImage at 0x1499aca90>"
      ]
     },
     "execution_count": 5,
     "metadata": {},
     "output_type": "execute_result"
    },
    {
     "data": {
      "image/png": "[encoded data removed]",
      "text/plain": [
       "<Figure size 432x288 with 1 Axes>"
      ]
     },
     "metadata": {
      "needs_background": "light"
     },
     "output_type": "display_data"
    }
   ],
   "source": [
    "print(\"Example Image Background Class\")\n",
    "plt.imshow(all_data_bkg2[0])"
   ]
  },
  {
   "cell_type": "code",
   "execution_count": 6,
   "metadata": {},
   "outputs": [
    {
     "name": "stdout",
     "output_type": "stream",
     "text": [
      "Number Of Images Background Class:  10000\n",
      "Number Of Images Background Class:  10000\n"
     ]
    }
   ],
   "source": [
    "print(\"Number Of Images Background Class: \", len(all_data_bkg2))\n",
    "print(\"Number Of Images Background Class: \", len(all_data_sig2))"
   ]
  },
  {
   "cell_type": "markdown",
   "metadata": {},
   "source": [
    "# PyTorch"
   ]
  },
  {
   "cell_type": "markdown",
   "metadata": {},
   "source": [
    "## Dataloader"
   ]
  },
  {
   "cell_type": "code",
   "execution_count": 7,
   "metadata": {},
   "outputs": [
    {
     "name": "stdout",
     "output_type": "stream",
     "text": [
      "Train Set:  16000\n",
      "Test Set:  4000\n"
     ]
    }
   ],
   "source": [
    "sig2_tensor = torch.from_numpy(np.array(all_data_sig2))\n",
    "bkg2_tensor = torch.from_numpy(np.array(all_data_bkg2))\n",
    "\n",
    "sig2_labels = torch.zeros(10000,1 , dtype=torch.float32)\n",
    "bkg2_labels = torch.ones(10000,1, dtype=torch.float32)\n",
    "\n",
    "data = np.stack((sig2_tensor, bkg2_tensor)).reshape(20000, 1, 32, 32)\n",
    "target_data = np.stack((sig2_labels, bkg2_labels)).reshape(20000,1)\n",
    "\n",
    "X_train, X_test, y_train, y_test = train_test_split(\n",
    "    data, target_data, test_size=0.20, random_state=111)\n",
    "\n",
    "\n",
    "class TMVADataset(Dataset):\n",
    "  \"\"\"TMVA Dataset\"\"\"\n",
    "  def __init__(self, X, y):\n",
    "        'Initialization'\n",
    "        self.X = X\n",
    "        self.y = y\n",
    "\n",
    "  def __len__(self):\n",
    "        'Denotes the total number of samples'\n",
    "        return self.X.size(0)\n",
    "\n",
    "  def __getitem__(self, index):\n",
    "        'Generates one sample of data'\n",
    "        return self.X[index], self.y[index]\n",
    "\n",
    "\n",
    "train_data = TMVADataset(torch.from_numpy(X_train), torch.from_numpy(y_train))\n",
    "test_data = TMVADataset(torch.from_numpy(X_test), torch.from_numpy(y_test))\n",
    "\n",
    "train_loader = DataLoader(train_data, batch_size=256, shuffle=True)\n",
    "test_loader = DataLoader(test_data, batch_size=256)\n",
    "\n",
    "print(\"Train Set: \", len(train_loader.dataset))\n",
    "print(\"Test Set: \", len(test_loader.dataset))"
   ]
  },
  {
   "cell_type": "markdown",
   "metadata": {},
   "source": [
    "## Model Definition"
   ]
  },
  {
   "cell_type": "code",
   "execution_count": 8,
   "metadata": {},
   "outputs": [
    {
     "name": "stdout",
     "output_type": "stream",
     "text": [
      "Total Number of parameters in PyTorch Model: 60941\n"
     ]
    }
   ],
   "source": [
    "class Net(nn.Module):\n",
    "    def __init__(self):\n",
    "        super(Net, self).__init__()\n",
    "        self.conv1 = nn.Conv2d(1, 6, 5)\n",
    "        self.pool  = nn.MaxPool2d(2, 2)\n",
    "        self.conv2 = nn.Conv2d(6, 16, 5)\n",
    "        self.fc1   = nn.Linear(16 * 5 * 5, 120)\n",
    "        self.fc2   = nn.Linear(120, 84)\n",
    "        self.fc3   = nn.Linear(84, 1)\n",
    "        self.act   = nn.Sigmoid()\n",
    "\n",
    "    def forward(self, x):\n",
    "        x = self.pool(F.relu(self.conv1(x)))\n",
    "        x = self.pool(F.relu(self.conv2(x)))\n",
    "        x = x.view(-1, 16 * 5 * 5)\n",
    "        x = F.relu(self.fc1(x))\n",
    "        x = F.relu(self.fc2(x))\n",
    "        x = self.fc3(x)\n",
    "        out = self.act(x)\n",
    "        return out\n",
    "\n",
    "\n",
    "net_root = Net()\n",
    "\n",
    "optimizer = optim.Adam(net_root.parameters(), lr=0.001)\n",
    "criterion = nn.BCELoss()\n",
    "\n",
    "num_epochs = 10\n",
    "\n",
    "def count_parameters(model):\n",
    "    return sum(p.numel() for p in model.parameters() if p.requires_grad)\n",
    "\n",
    "params = count_parameters(net_root)\n",
    "print(\"Total Number of parameters in PyTorch Model:\", params)"
   ]
  },
  {
   "cell_type": "markdown",
   "metadata": {},
   "source": [
    "## Training"
   ]
  },
  {
   "cell_type": "code",
   "execution_count": 9,
   "metadata": {},
   "outputs": [
    {
     "name": "stdout",
     "output_type": "stream",
     "text": [
      "Epoch 1, MiniBatch 1, Loss: 4.181\n",
      "Epoch 2, MiniBatch 1, Loss: 1.379\n",
      "Epoch 3, MiniBatch 1, Loss: 1.359\n",
      "Epoch 4, MiniBatch 1, Loss: 1.323\n",
      "Epoch 5, MiniBatch 1, Loss: 1.202\n",
      "Epoch 6, MiniBatch 1, Loss: 0.836\n",
      "Epoch 7, MiniBatch 1, Loss: 0.549\n",
      "Epoch 8, MiniBatch 1, Loss: 0.344\n",
      "Epoch 9, MiniBatch 1, Loss: 0.075\n",
      "Epoch 10, MiniBatch 1, Loss: 0.173\n",
      "Time taken to complete training:  46.95226311683655\n"
     ]
    }
   ],
   "source": [
    "\"\"\"Train and evaluate a model with CPU\"\"\"\n",
    "start = time.time()\n",
    "for epoch in range(num_epochs):\n",
    "    running_loss = 0\n",
    "    for i, data in enumerate(train_loader):\n",
    "        net_root.train()\n",
    "        X, y = data\n",
    "        optimizer.zero_grad()\n",
    "        y_hat = net_root(X)\n",
    "        loss = criterion(y_hat, y.float())\n",
    "        running_loss += loss\n",
    "        loss.backward()\n",
    "        optimizer.step()\n",
    "        \n",
    "        # print statistics\n",
    "        running_loss += loss.item()\n",
    "        if (i%199)==0:\n",
    "            print('Epoch {}, MiniBatch {}, Loss: {:.3f}'.format(epoch+1, i + 1, running_loss/(i+1)))\n",
    "            running_loss = 0.0\n",
    "        \n",
    "train_time_pytorch = time.time() - start\n",
    "print(\"Time taken to complete training: \",train_time_pytorch)"
   ]
  },
  {
   "cell_type": "markdown",
   "metadata": {},
   "source": [
    "## Evaluation & Training Time & ROC PyTorch"
   ]
  },
  {
   "cell_type": "code",
   "execution_count": 10,
   "metadata": {},
   "outputs": [
    {
     "name": "stdout",
     "output_type": "stream",
     "text": [
      "Accuracy on test set: 0.97275\n"
     ]
    }
   ],
   "source": [
    "net_root.eval()\n",
    "preds_all = []\n",
    "test_scores = []\n",
    "test_acc_sum = 0\n",
    "n = 0\n",
    "\n",
    "with torch.no_grad():\n",
    "    for i, data in enumerate(test_loader):\n",
    "        net_root.eval()\n",
    "        X, y = data  \n",
    "        outputs = net_root(X)\n",
    "        y_hat = torch.where(outputs>=0.5, torch.ones(1), torch.zeros(1))\n",
    "        test_scores.append(outputs.numpy())\n",
    "        preds_all.append(y_hat.numpy())\n",
    "        \n",
    "        # Thresholding using argmax\n",
    "        test_acc_sum += (np.sum((y_hat == y).numpy()))\n",
    "        n += y.shape[0]\n",
    "    print(\"Accuracy on test set: {}\".format(test_acc_sum/n))"
   ]
  },
  {
   "cell_type": "code",
   "execution_count": 11,
   "metadata": {},
   "outputs": [
    {
     "name": "stdout",
     "output_type": "stream",
     "text": [
      "Test Scores: [[9.3814683e-01]\n",
      " [9.9561393e-01]\n",
      " [4.8744404e-01]\n",
      " ...\n",
      " [2.1389881e-01]\n",
      " [3.0350420e-04]\n",
      " [5.4979377e-04]]\n",
      "Ground Truth: [[1.]\n",
      " [1.]\n",
      " [0.]\n",
      " ...\n",
      " [1.]\n",
      " [0.]\n",
      " [0.]]\n",
      "Predictions: [[1.]\n",
      " [1.]\n",
      " [0.]\n",
      " ...\n",
      " [0.]\n",
      " [0.]\n",
      " [0.]]\n"
     ]
    }
   ],
   "source": [
    "preds_all_np = np.concatenate(preds_all)\n",
    "test_scores_np = np.concatenate(test_scores)\n",
    "\n",
    "print(\"Test Scores:\", test_scores_np)\n",
    "print(\"Ground Truth:\", y_test)\n",
    "print(\"Predictions:\", preds_all_np)"
   ]
  },
  {
   "cell_type": "code",
   "execution_count": 12,
   "metadata": {},
   "outputs": [
    {
     "data": {
      "image/png": "[encoded data removed]",
      "text/plain": [
       "<Figure size 432x288 with 1 Axes>"
      ]
     },
     "metadata": {
      "needs_background": "light"
     },
     "output_type": "display_data"
    },
    {
     "name": "stdout",
     "output_type": "stream",
     "text": [
      "AUC score: 0.9981895309332429\n"
     ]
    }
   ],
   "source": [
    "fpr, tpr, _ = metrics.roc_curve(y_test, test_scores_np)\n",
    "plt.plot(fpr, tpr)\n",
    "plt.grid()\n",
    "plt.title(\"PyTorch ROC\")\n",
    "plt.savefig(\"Pytorch_ROC.png\")\n",
    "plt.show()\n",
    "\n",
    "print(\"AUC score:\",  metrics.roc_auc_score(y_test, test_scores_np))"
   ]
  },
  {
   "cell_type": "markdown",
   "metadata": {},
   "source": [
    "# Keras"
   ]
  },
  {
   "cell_type": "code",
   "execution_count": 13,
   "metadata": {},
   "outputs": [
    {
     "name": "stdout",
     "output_type": "stream",
     "text": [
      "Model: \"sequential_1\"\n",
      "_________________________________________________________________\n",
      "Layer (type)                 Output Shape              Param #   \n",
      "=================================================================\n",
      "conv2d_1 (Conv2D)            (None, 6, 28, 28)         156       \n",
      "_________________________________________________________________\n",
      "activation_1 (Activation)    (None, 6, 28, 28)         0         \n",
      "_________________________________________________________________\n",
      "max_pooling2d_1 (MaxPooling2 (None, 6, 14, 14)         0         \n",
      "_________________________________________________________________\n",
      "conv2d_2 (Conv2D)            (None, 16, 10, 10)        2416      \n",
      "_________________________________________________________________\n",
      "activation_2 (Activation)    (None, 16, 10, 10)        0         \n",
      "_________________________________________________________________\n",
      "max_pooling2d_2 (MaxPooling2 (None, 16, 5, 5)          0         \n",
      "_________________________________________________________________\n",
      "flatten_1 (Flatten)          (None, 400)               0         \n",
      "_________________________________________________________________\n",
      "dense_1 (Dense)              (None, 120)               48120     \n",
      "_________________________________________________________________\n",
      "activation_3 (Activation)    (None, 120)               0         \n",
      "_________________________________________________________________\n",
      "dense_2 (Dense)              (None, 84)                10164     \n",
      "_________________________________________________________________\n",
      "activation_4 (Activation)    (None, 84)                0         \n",
      "_________________________________________________________________\n",
      "dense_3 (Dense)              (None, 1)                 85        \n",
      "=================================================================\n",
      "Total params: 60,941\n",
      "Trainable params: 60,941\n",
      "Non-trainable params: 0\n",
      "_________________________________________________________________\n",
      "None\n"
     ]
    }
   ],
   "source": [
    "batch_size = 256\n",
    "epochs = 10\n",
    "\n",
    "save_dir = os.path.join(os.getcwd(), 'saved_models')\n",
    "model_name = 'keras_TMVA_SAMPLE_trained_model.h5'\n",
    "    \n",
    "model = Sequential()\n",
    "model.add(Conv2D(6, (5, 5), data_format=\"channels_first\"))\n",
    "model.add(Activation('relu'))\n",
    "model.add(MaxPooling2D(pool_size=(2, 2), data_format=\"channels_first\"))\n",
    "model.add(Conv2D(16, (5, 5), data_format=\"channels_first\"))\n",
    "model.add(Activation('relu'))\n",
    "model.add(MaxPooling2D(pool_size=(2, 2), data_format=\"channels_first\"))\n",
    "model.add(Flatten())\n",
    "model.add(Dense(120))\n",
    "model.add(Activation('relu'))\n",
    "model.add(Dense(84))\n",
    "model.add(Activation('relu'))\n",
    "model.add(Dense(1, activation='sigmoid'))\n",
    "\n",
    "\n",
    "model.build((None, 1, 32, 32))\n",
    "print(model.summary())"
   ]
  },
  {
   "cell_type": "code",
   "execution_count": 14,
   "metadata": {},
   "outputs": [],
   "source": [
    "# initiate SGD with momentum optimizer\n",
    "opt = keras.optimizers.Adam(learning_rate=0.001)\n",
    "\n",
    "# Let's train the model\n",
    "model.compile(loss='binary_crossentropy',\n",
    "              optimizer=opt,\n",
    "              metrics=['accuracy'])"
   ]
  },
  {
   "cell_type": "code",
   "execution_count": 15,
   "metadata": {},
   "outputs": [
    {
     "name": "stdout",
     "output_type": "stream",
     "text": [
      "Epoch 1/10\n",
      "16000/16000 [==============================] - 5s 299us/step - loss: 1.0000 - accuracy: 0.5217\n",
      "Epoch 2/10\n",
      "16000/16000 [==============================] - 5s 283us/step - loss: 0.6196 - accuracy: 0.6534\n",
      "Epoch 3/10\n",
      "16000/16000 [==============================] - 4s 265us/step - loss: 0.5521 - accuracy: 0.7102\n",
      "Epoch 4/10\n",
      "16000/16000 [==============================] - 4s 250us/step - loss: 0.4499 - accuracy: 0.7898\n",
      "Epoch 5/10\n",
      "16000/16000 [==============================] - 4s 246us/step - loss: 0.3385 - accuracy: 0.8499\n",
      "Epoch 6/10\n",
      "16000/16000 [==============================] - 4s 246us/step - loss: 0.3142 - accuracy: 0.8605\n",
      "Epoch 7/10\n",
      "16000/16000 [==============================] - 4s 245us/step - loss: 0.1966 - accuracy: 0.9201\n",
      "Epoch 8/10\n",
      "16000/16000 [==============================] - 4s 245us/step - loss: 0.2141 - accuracy: 0.9097\n",
      "Epoch 9/10\n",
      "16000/16000 [==============================] - 4s 257us/step - loss: 0.1710 - accuracy: 0.9300\n",
      "Epoch 10/10\n",
      "16000/16000 [==============================] - 4s 260us/step - loss: 0.1644 - accuracy: 0.9339\n",
      "Time taken to complete training:  42.276041984558105\n",
      "\n",
      "Saved trained model at /Users/gollum/Desktop/Work/root/_build/saved_models/keras_TMVA_SAMPLE_trained_model.h5 \n"
     ]
    }
   ],
   "source": [
    "start=time.time()\n",
    "\n",
    "model.fit(X_train, y_train,\n",
    "          batch_size=batch_size,\n",
    "          epochs=epochs,\n",
    "          shuffle=True)\n",
    "\n",
    "train_time_keras = time.time() - start\n",
    "\n",
    "print(\"Time taken to complete training: \", train_time_keras)\n",
    "\n",
    "# Save model and weights\n",
    "if not os.path.isdir(save_dir):\n",
    "    os.makedirs(save_dir)\n",
    "\n",
    "model_path = os.path.join(save_dir, model_name)\n",
    "model.save(model_path)\n",
    "print('\\nSaved trained model at %s ' % model_path)"
   ]
  },
  {
   "cell_type": "code",
   "execution_count": 16,
   "metadata": {},
   "outputs": [
    {
     "name": "stdout",
     "output_type": "stream",
     "text": [
      "4000/4000 [==============================] - 0s 105us/step\n",
      "Test loss: 0.3437141745686531\n",
      "Test accuracy: 0.859499990940094\n"
     ]
    }
   ],
   "source": [
    "# Score trained model.\n",
    "keras_scores = model.evaluate(X_test, y_test, verbose=1)\n",
    "print('Test loss:', keras_scores[0])\n",
    "print('Test accuracy:', keras_scores[1])"
   ]
  },
  {
   "cell_type": "markdown",
   "metadata": {},
   "source": [
    "## Evaluation & Training Time Keras"
   ]
  },
  {
   "cell_type": "code",
   "execution_count": 17,
   "metadata": {},
   "outputs": [
    {
     "name": "stdout",
     "output_type": "stream",
     "text": [
      "[[1.]\n",
      " [1.]\n",
      " [0.]\n",
      " ...\n",
      " [1.]\n",
      " [0.]\n",
      " [0.]]\n",
      "[[4.4892851e-01]\n",
      " [7.1763247e-02]\n",
      " [4.3640760e-04]\n",
      " ...\n",
      " [6.8508210e-03]\n",
      " [9.8617002e-06]\n",
      " [5.0992963e-05]]\n"
     ]
    }
   ],
   "source": [
    "y_pred_keras = model.predict(X_test)\n",
    "print(y_test)\n",
    "print(y_pred_keras)"
   ]
  },
  {
   "cell_type": "code",
   "execution_count": 18,
   "metadata": {},
   "outputs": [
    {
     "data": {
      "image/png": "[encoded data removed]",
      "text/plain": [
       "<Figure size 432x288 with 1 Axes>"
      ]
     },
     "metadata": {
      "needs_background": "light"
     },
     "output_type": "display_data"
    },
    {
     "name": "stdout",
     "output_type": "stream",
     "text": [
      "AUC score: 0.9888772791507773\n"
     ]
    }
   ],
   "source": [
    "fpr_keras, tpr_keras, _ = metrics.roc_curve(y_test, y_pred_keras)\n",
    "plt.plot(fpr_keras, tpr_keras)\n",
    "plt.grid()\n",
    "plt.title(\"Keras ROC\")\n",
    "plt.savefig(\"Keras_ROC.png\")\n",
    "plt.show()\n",
    "\n",
    "print(\"AUC score:\",  metrics.roc_auc_score(y_test, y_pred_keras))"
   ]
  },
  {
   "cell_type": "code",
   "execution_count": 19,
   "metadata": {},
   "outputs": [
    {
     "name": "stdout",
     "output_type": "stream",
     "text": [
      "PyTorch Training Timein seconds: 46.95226311683655\n",
      "Keras Training Time in seconds: 42.276041984558105\n"
     ]
    }
   ],
   "source": [
    "print(\"PyTorch Training Timein seconds:\", train_time_pytorch)\n",
    "print(\"Keras Training Time in seconds:\", train_time_keras)"
   ]
  },
  {
   "cell_type": "markdown",
   "metadata": {},
   "source": [
    "### Note: ROC Curve is plotted using the prediction scores (without any thresholding)"
   ]
  }
 ],
 "metadata": {
  "kernelspec": {
   "display_name": "python3.7.7",
   "language": "python",
   "name": "python3.7.7"
  },
  "language_info": {
   "codemirror_mode": {
    "name": "ipython",
    "version": 3
   },
   "file_extension": ".py",
   "mimetype": "text/x-python",
   "name": "python",
   "nbconvert_exporter": "python",
   "pygments_lexer": "ipython3",
   "version": "3.7.7"
  }
 },
 "nbformat": 4,
 "nbformat_minor": 4
}
